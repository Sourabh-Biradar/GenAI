{
 "cells": [
  {
   "cell_type": "code",
   "execution_count": 1,
   "id": "83e586b5",
   "metadata": {},
   "outputs": [],
   "source": [
    "# embedding : Open AI"
   ]
  },
  {
   "cell_type": "code",
   "execution_count": 2,
   "id": "dd392bcd",
   "metadata": {},
   "outputs": [
    {
     "data": {
      "text/plain": [
       "True"
      ]
     },
     "execution_count": 2,
     "metadata": {},
     "output_type": "execute_result"
    }
   ],
   "source": [
    "import os\n",
    "from dotenv import load_dotenv\n",
    "load_dotenv()"
   ]
  },
  {
   "cell_type": "code",
   "execution_count": 6,
   "id": "01f1d37d",
   "metadata": {},
   "outputs": [],
   "source": [
    "import openai\n",
    "\n",
    "openai.API_KEY = os.getenv('OPENAI_API_KEY')"
   ]
  },
  {
   "cell_type": "code",
   "execution_count": 9,
   "id": "539f47da",
   "metadata": {},
   "outputs": [],
   "source": [
    "from langchain_openai import OpenAIEmbeddings\n",
    "\n",
    "embeds = OpenAIEmbeddings(model='text-embedding-3-large')    # default = 3072 dimensions\n",
    "\n",
    "embeds_1024 = OpenAIEmbeddings(model='text-embedding-3-large',dimensions=1024)"
   ]
  },
  {
   "cell_type": "code",
   "execution_count": null,
   "id": "81953285",
   "metadata": {},
   "outputs": [],
   "source": [
    "text = 'She sells seashells on the sea'\n",
    "\n",
    "vecs = embeds.embed_query(text)\n",
    "len(vecs)         # 3072\n",
    "\n",
    "vecs_1024 = embeds_1024.embed_query(text)\n",
    "len(vecs_1024)     # 1024"
   ]
  }
 ],
 "metadata": {
  "kernelspec": {
   "display_name": "langchain",
   "language": "python",
   "name": "python3"
  },
  "language_info": {
   "codemirror_mode": {
    "name": "ipython",
    "version": 3
   },
   "file_extension": ".py",
   "mimetype": "text/x-python",
   "name": "python",
   "nbconvert_exporter": "python",
   "pygments_lexer": "ipython3",
   "version": "3.10.18"
  }
 },
 "nbformat": 4,
 "nbformat_minor": 5
}
