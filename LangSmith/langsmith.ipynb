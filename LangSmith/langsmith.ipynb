{
 "cells": [
  {
   "cell_type": "code",
   "execution_count": 17,
   "id": "f446fc5a",
   "metadata": {},
   "outputs": [],
   "source": [
    "# LangChain-LangSmith\n",
    "\n",
    "# with OpenAI"
   ]
  },
  {
   "cell_type": "code",
   "execution_count": null,
   "id": "98d3a1e1",
   "metadata": {},
   "outputs": [],
   "source": [
    "# configuring\n",
    "\n",
    "import os\n",
    "from dotenv import load_dotenv\n",
    "load_dotenv()\n",
    "\n",
    "langsmith_key = os.getenv('LANGSMITH_API_KEY')\n",
    "\n",
    "openai_key = os.getenv(\"OPENAI_API_KEY\")\n",
    "\n",
    "project_name = os.getenv(\"PROJECT_NAME\")\n",
    "\n",
    "os.environ['LANGSMITH_TRACING']='true'"
   ]
  },
  {
   "cell_type": "code",
   "execution_count": 26,
   "id": "af623038",
   "metadata": {},
   "outputs": [
    {
     "data": {
      "text/plain": [
       "ChatOpenAI(client=<openai.resources.chat.completions.completions.Completions object at 0x11f37bb50>, async_client=<openai.resources.chat.completions.completions.AsyncCompletions object at 0x11f37b6a0>, root_client=<openai.OpenAI object at 0x11d53b430>, root_async_client=<openai.AsyncOpenAI object at 0x11f37b850>, model_name='gpt-4o', model_kwargs={}, openai_api_key=SecretStr('**********'))"
      ]
     },
     "execution_count": 26,
     "metadata": {},
     "output_type": "execute_result"
    }
   ],
   "source": [
    "# loading llm\n",
    "\n",
    "from langchain_openai import ChatOpenAI\n",
    "\n",
    "llm = ChatOpenAI(model='gpt-4o')\n",
    "\n",
    "llm"
   ]
  },
  {
   "cell_type": "code",
   "execution_count": null,
   "id": "accb27b7",
   "metadata": {},
   "outputs": [],
   "source": [
    "# testing\n",
    "\n",
    "result = llm.invoke('What model are you?')\n",
    "\n",
    "result"
   ]
  },
  {
   "cell_type": "code",
   "execution_count": null,
   "id": "2d511864",
   "metadata": {},
   "outputs": [],
   "source": [
    "# prompt template\n",
    "\n",
    "from langchain_core.prompts import ChatPromptTemplate\n",
    "\n",
    "prompt = ChatPromptTemplate.from_messages([\n",
    "    ('system',\"you are a doctor , repond like one\"),\n",
    "    ('user',{input})\n",
    "])"
   ]
  },
  {
   "cell_type": "code",
   "execution_count": null,
   "id": "d58c4ebe",
   "metadata": {},
   "outputs": [],
   "source": [
    "# creating chain\n",
    "\n",
    "chain = prompt | llm"
   ]
  },
  {
   "cell_type": "code",
   "execution_count": null,
   "id": "5030d351",
   "metadata": {},
   "outputs": [],
   "source": [
    "response = chain.invoke({'input':'I have headache , what do i do?'})\n",
    "\n",
    "print(response)\n",
    "\n",
    "type(response)         # AIMessage"
   ]
  },
  {
   "cell_type": "code",
   "execution_count": null,
   "id": "00167611",
   "metadata": {},
   "outputs": [],
   "source": [
    "# with DEFAULT output parser\n",
    "\n",
    "from langchain_core.output_parser import StrOutputParser\n",
    "\n",
    "parser = StrOutputParser()\n",
    "\n",
    "chain = prompt | llm | parser\n",
    "\n",
    "resp = chain.invoke({'input':'I have headache , what do i do?'})\n",
    "\n",
    "print(resp)"
   ]
  }
 ],
 "metadata": {
  "kernelspec": {
   "display_name": "langchain",
   "language": "python",
   "name": "python3"
  },
  "language_info": {
   "codemirror_mode": {
    "name": "ipython",
    "version": 3
   },
   "file_extension": ".py",
   "mimetype": "text/x-python",
   "name": "python",
   "nbconvert_exporter": "python",
   "pygments_lexer": "ipython3",
   "version": "3.10.18"
  }
 },
 "nbformat": 4,
 "nbformat_minor": 5
}
