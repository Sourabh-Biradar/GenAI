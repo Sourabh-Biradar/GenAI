{
 "cells": [
  {
   "cell_type": "code",
   "execution_count": 1,
   "id": "9aa75245",
   "metadata": {},
   "outputs": [],
   "source": [
    "# vector store DB\n",
    "\n",
    "# chroma DB"
   ]
  },
  {
   "cell_type": "code",
   "execution_count": 3,
   "id": "f935e84d",
   "metadata": {},
   "outputs": [],
   "source": [
    "from langchain_community.vectorstores import Chroma"
   ]
  },
  {
   "cell_type": "code",
   "execution_count": 4,
   "id": "41a9af0f",
   "metadata": {},
   "outputs": [],
   "source": [
    "from langchain_community.document_loaders import TextLoader\n",
    "\n",
    "from langchain_community.embeddings import OllamaEmbeddings\n",
    "\n",
    "from langchain.text_splitter import RecursiveCharacterTextSplitter"
   ]
  },
  {
   "cell_type": "code",
   "execution_count": 8,
   "id": "4daa5e08",
   "metadata": {},
   "outputs": [],
   "source": [
    "loader = TextLoader('speech.txt')\n",
    "\n",
    "documents = loader.load()\n",
    "\n",
    "text_splitter = RecursiveCharacterTextSplitter(chunk_size=200,chunk_overlap=30)\n",
    "\n",
    "docs = text_splitter.split_documents(documents)"
   ]
  },
  {
   "cell_type": "code",
   "execution_count": 9,
   "id": "45034b81",
   "metadata": {},
   "outputs": [
    {
     "name": "stderr",
     "output_type": "stream",
     "text": [
      "/var/folders/t8/jd9q6db925gfc_y7xv39x7nr0000gn/T/ipykernel_12074/2229269207.py:1: LangChainDeprecationWarning: The class `OllamaEmbeddings` was deprecated in LangChain 0.3.1 and will be removed in 1.0.0. An updated version of the class exists in the :class:`~langchain-ollama package and should be used instead. To use it run `pip install -U :class:`~langchain-ollama` and import as `from :class:`~langchain_ollama import OllamaEmbeddings``.\n",
      "  embeds = OllamaEmbeddings(model='mxbai-embed-large')\n"
     ]
    }
   ],
   "source": [
    "embeds = OllamaEmbeddings(model='mxbai-embed-large')"
   ]
  },
  {
   "cell_type": "code",
   "execution_count": 10,
   "id": "a983fb29",
   "metadata": {},
   "outputs": [],
   "source": [
    "query = \"what is the main reason for united states to enter the war?\""
   ]
  },
  {
   "cell_type": "code",
   "execution_count": 11,
   "id": "25219c25",
   "metadata": {},
   "outputs": [
    {
     "data": {
      "text/plain": [
       "Document(metadata={'source': 'speech.txt'}, page_content='ahead of us. It is a fearful thing to lead this great peaceful people into war, into the most terrible and disastrous of all wars, civilization itself seeming to be in the balance. But the right is')"
      ]
     },
     "execution_count": 11,
     "metadata": {},
     "output_type": "execute_result"
    }
   ],
   "source": [
    "# vector DB \n",
    "# Chroma similarity search\n",
    "\n",
    "db = Chroma.from_documents(docs,embeds)\n",
    "\n",
    "result = db.similarity_search(query)\n",
    "\n",
    "result[0]"
   ]
  },
  {
   "cell_type": "code",
   "execution_count": 14,
   "id": "ec53b0a7",
   "metadata": {},
   "outputs": [],
   "source": [
    "# saving locally\n",
    "\n",
    "db = Chroma.from_documents(docs,embeds,persist_directory='./chromadb')\n",
    "\n",
    "db.persist()"
   ]
  },
  {
   "cell_type": "code",
   "execution_count": 17,
   "id": "5a6f4d43",
   "metadata": {},
   "outputs": [
    {
     "data": {
      "text/plain": [
       "Document(metadata={'source': 'speech.txt'}, page_content='ahead of us. It is a fearful thing to lead this great peaceful people into war, into the most terrible and disastrous of all wars, civilization itself seeming to be in the balance. But the right is')"
      ]
     },
     "execution_count": 17,
     "metadata": {},
     "output_type": "execute_result"
    }
   ],
   "source": [
    "# loading\n",
    "\n",
    "new_db = Chroma(persist_directory=\"./chromadb\",embedding_function=embeds)\n",
    "\n",
    "result = new_db.similarity_search(query)\n",
    "\n",
    "result[0]"
   ]
  },
  {
   "cell_type": "code",
   "execution_count": 18,
   "id": "b22ac734",
   "metadata": {},
   "outputs": [
    {
     "data": {
      "text/plain": [
       "Document(metadata={'source': 'speech.txt'}, page_content='ahead of us. It is a fearful thing to lead this great peaceful people into war, into the most terrible and disastrous of all wars, civilization itself seeming to be in the balance. But the right is')"
      ]
     },
     "execution_count": 18,
     "metadata": {},
     "output_type": "execute_result"
    }
   ],
   "source": [
    "# retriever \n",
    "\n",
    "retriever = db.as_retriever()\n",
    "\n",
    "res = retriever.invoke(query)\n",
    "\n",
    "res[0]\n",
    "\n"
   ]
  }
 ],
 "metadata": {
  "kernelspec": {
   "display_name": "langchain",
   "language": "python",
   "name": "python3"
  },
  "language_info": {
   "codemirror_mode": {
    "name": "ipython",
    "version": 3
   },
   "file_extension": ".py",
   "mimetype": "text/x-python",
   "name": "python",
   "nbconvert_exporter": "python",
   "pygments_lexer": "ipython3",
   "version": "3.10.18"
  }
 },
 "nbformat": 4,
 "nbformat_minor": 5
}
