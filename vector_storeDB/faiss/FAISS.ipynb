{
 "cells": [
  {
   "cell_type": "code",
   "execution_count": 1,
   "id": "dbfe317c",
   "metadata": {},
   "outputs": [],
   "source": [
    "# Vector Store DB\n",
    "\n",
    "# FAISS : Facebook AI Similarity Search"
   ]
  },
  {
   "cell_type": "code",
   "execution_count": 2,
   "id": "abb43bfb",
   "metadata": {},
   "outputs": [],
   "source": [
    "from langchain_community.document_loaders import TextLoader\n",
    "\n",
    "from langchain_community.embeddings import OllamaEmbeddings\n",
    "\n",
    "from langchain.text_splitter import RecursiveCharacterTextSplitter\n",
    "\n",
    "from langchain_community.vectorstores import FAISS"
   ]
  },
  {
   "cell_type": "code",
   "execution_count": 7,
   "id": "fc3b1ca2",
   "metadata": {},
   "outputs": [],
   "source": [
    "# loading .txt\n",
    "\n",
    "loader = TextLoader('speech.txt')\n",
    "\n",
    "documents = loader.load()"
   ]
  },
  {
   "cell_type": "code",
   "execution_count": 9,
   "id": "6b0c3f88",
   "metadata": {},
   "outputs": [
    {
     "data": {
      "text/plain": [
       "langchain_core.documents.base.Document"
      ]
     },
     "execution_count": 9,
     "metadata": {},
     "output_type": "execute_result"
    }
   ],
   "source": [
    "# text splitting\n",
    "\n",
    "text_splitter = RecursiveCharacterTextSplitter(chunk_size=200,chunk_overlap=30)\n",
    "\n",
    "docs = text_splitter.split_documents(documents)\n",
    "\n",
    "type(docs[0])"
   ]
  },
  {
   "cell_type": "code",
   "execution_count": 14,
   "id": "e7b10489",
   "metadata": {},
   "outputs": [],
   "source": [
    "# embedding\n",
    "\n",
    "embeds = OllamaEmbeddings(model='mxbai-embed-large')"
   ]
  },
  {
   "cell_type": "code",
   "execution_count": 15,
   "id": "f1b38bed",
   "metadata": {},
   "outputs": [],
   "source": [
    "query = \"what is the main reason for united states to enter the war?\""
   ]
  },
  {
   "cell_type": "code",
   "execution_count": null,
   "id": "47f4fb04",
   "metadata": {},
   "outputs": [
    {
     "data": {
      "text/plain": [
       "Document(id='b177fea4-e20e-42b1-a254-8414a2b78b4f', metadata={'source': 'speech.txt'}, page_content='ahead of us. It is a fearful thing to lead this great peaceful people into war, into the most terrible and disastrous of all wars, civilization itself seeming to be in the balance. But the right is')"
      ]
     },
     "execution_count": 16,
     "metadata": {},
     "output_type": "execute_result"
    }
   ],
   "source": [
    "# vector DB\n",
    "\n",
    "# similarity search\n",
    "\n",
    "db = FAISS.from_documents(docs,embeds)\n",
    "\n",
    "result = db.similarity_search(query)\n",
    "\n",
    "result[0]"
   ]
  },
  {
   "cell_type": "code",
   "execution_count": 17,
   "id": "fa2d10ec",
   "metadata": {},
   "outputs": [
    {
     "data": {
      "text/plain": [
       "'ahead of us. It is a fearful thing to lead this great peaceful people into war, into the most terrible and disastrous of all wars, civilization itself seeming to be in the balance. But the right is'"
      ]
     },
     "execution_count": 17,
     "metadata": {},
     "output_type": "execute_result"
    }
   ],
   "source": [
    "result[0].page_content"
   ]
  },
  {
   "cell_type": "code",
   "execution_count": 18,
   "id": "880905ce",
   "metadata": {},
   "outputs": [
    {
     "data": {
      "text/plain": [
       "(Document(id='b177fea4-e20e-42b1-a254-8414a2b78b4f', metadata={'source': 'speech.txt'}, page_content='ahead of us. It is a fearful thing to lead this great peaceful people into war, into the most terrible and disastrous of all wars, civilization itself seeming to be in the balance. But the right is'),\n",
       " 267.1466)"
      ]
     },
     "execution_count": 18,
     "metadata": {},
     "output_type": "execute_result"
    }
   ],
   "source": [
    "# similarity search with score\n",
    "\n",
    "result_score = db.similarity_search_with_score(query)\n",
    "\n",
    "result_score[0]"
   ]
  },
  {
   "cell_type": "code",
   "execution_count": 20,
   "id": "6616ac0f",
   "metadata": {},
   "outputs": [
    {
     "data": {
      "text/plain": [
       "Document(id='b177fea4-e20e-42b1-a254-8414a2b78b4f', metadata={'source': 'speech.txt'}, page_content='ahead of us. It is a fearful thing to lead this great peaceful people into war, into the most terrible and disastrous of all wars, civilization itself seeming to be in the balance. But the right is')"
      ]
     },
     "execution_count": 20,
     "metadata": {},
     "output_type": "execute_result"
    }
   ],
   "source": [
    "# with retriever \n",
    "\n",
    "retriever = db.as_retriever()\n",
    "\n",
    "res = retriever.invoke(query)\n",
    "\n",
    "res[0]"
   ]
  },
  {
   "cell_type": "code",
   "execution_count": 22,
   "id": "2ccfc275",
   "metadata": {},
   "outputs": [
    {
     "data": {
      "text/plain": [
       "Document(id='b177fea4-e20e-42b1-a254-8414a2b78b4f', metadata={'source': 'speech.txt'}, page_content='ahead of us. It is a fearful thing to lead this great peaceful people into war, into the most terrible and disastrous of all wars, civilization itself seeming to be in the balance. But the right is')"
      ]
     },
     "execution_count": 22,
     "metadata": {},
     "output_type": "execute_result"
    }
   ],
   "source": [
    "# vector similarity search\n",
    "\n",
    "vecs = embeds.embed_query(query)\n",
    "\n",
    "result = db.similarity_search_by_vector(vecs)\n",
    "\n",
    "result[0]"
   ]
  },
  {
   "cell_type": "code",
   "execution_count": 23,
   "id": "c6541d9c",
   "metadata": {},
   "outputs": [],
   "source": [
    "# saving vector DB locally \n",
    "\n",
    "db.save_local('faiss_index')"
   ]
  },
  {
   "cell_type": "code",
   "execution_count": 28,
   "id": "4cc60827",
   "metadata": {},
   "outputs": [
    {
     "data": {
      "text/plain": [
       "Document(id='b177fea4-e20e-42b1-a254-8414a2b78b4f', metadata={'source': 'speech.txt'}, page_content='ahead of us. It is a fearful thing to lead this great peaceful people into war, into the most terrible and disastrous of all wars, civilization itself seeming to be in the balance. But the right is')"
      ]
     },
     "execution_count": 28,
     "metadata": {},
     "output_type": "execute_result"
    }
   ],
   "source": [
    "# loading vector DB\n",
    "\n",
    "new_db = FAISS.load_local('faiss_index',embeds,allow_dangerous_deserialization=True)\n",
    "\n",
    "docs = new_db.similarity_search(query)\n",
    "\n",
    "docs[0]"
   ]
  }
 ],
 "metadata": {
  "kernelspec": {
   "display_name": "langchain",
   "language": "python",
   "name": "python3"
  },
  "language_info": {
   "codemirror_mode": {
    "name": "ipython",
    "version": 3
   },
   "file_extension": ".py",
   "mimetype": "text/x-python",
   "name": "python",
   "nbconvert_exporter": "python",
   "pygments_lexer": "ipython3",
   "version": "3.10.18"
  }
 },
 "nbformat": 4,
 "nbformat_minor": 5
}
