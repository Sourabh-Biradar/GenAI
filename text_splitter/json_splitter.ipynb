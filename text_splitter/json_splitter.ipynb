{
 "cells": [
  {
   "cell_type": "code",
   "execution_count": 5,
   "id": "9fb9d8d9",
   "metadata": {},
   "outputs": [],
   "source": [
    "# json splitter\n",
    "\n",
    "import json\n",
    "import requests \n",
    "\n",
    "data = requests.get(\"https://jsonplaceholder.typicode.com/posts\")\n",
    "\n",
    "json_data = data.json()"
   ]
  },
  {
   "cell_type": "code",
   "execution_count": 7,
   "id": "d03aa9dd",
   "metadata": {},
   "outputs": [],
   "source": [
    "from langchain.text_splitter import RecursiveJsonSplitter\n",
    "\n",
    "json_splitter = RecursiveJsonSplitter(max_chunk_size=200)\n",
    "\n",
    "docs = json_splitter.create_documents(texts=json_data)"
   ]
  },
  {
   "cell_type": "code",
   "execution_count": 8,
   "id": "546cdca8",
   "metadata": {},
   "outputs": [
    {
     "data": {
      "text/plain": [
       "langchain_core.documents.base.Document"
      ]
     },
     "execution_count": 8,
     "metadata": {},
     "output_type": "execute_result"
    }
   ],
   "source": [
    "type(docs[0])"
   ]
  }
 ],
 "metadata": {
  "kernelspec": {
   "display_name": "langchain",
   "language": "python",
   "name": "python3"
  },
  "language_info": {
   "codemirror_mode": {
    "name": "ipython",
    "version": 3
   },
   "file_extension": ".py",
   "mimetype": "text/x-python",
   "name": "python",
   "nbconvert_exporter": "python",
   "pygments_lexer": "ipython3",
   "version": "3.10.18"
  }
 },
 "nbformat": 4,
 "nbformat_minor": 5
}
