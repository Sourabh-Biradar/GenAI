{
 "cells": [
  {
   "cell_type": "code",
   "execution_count": null,
   "id": "ce4e6cf9",
   "metadata": {},
   "outputs": [],
   "source": [
    "# Simple Gen AI App\n",
    "\n",
    "# RAG"
   ]
  },
  {
   "cell_type": "code",
   "execution_count": 1,
   "id": "d8208b04",
   "metadata": {},
   "outputs": [],
   "source": [
    "# loading env variables\n",
    "\n",
    "import os\n",
    "from dotenv import load_dotenv\n",
    "\n",
    "load_dotenv()\n",
    "\n",
    "openai_key = os.getenv('OPENAI_API_KEY')\n",
    "langsmith_key = os.getenv('LANGSMITH_API_KEY')\n",
    "project = os.getenv('PROJECT_NAME')\n",
    "\n",
    "os.environ['LANGSMITH_TRACING'] = \"true\""
   ]
  },
  {
   "cell_type": "code",
   "execution_count": 5,
   "id": "4e13b200",
   "metadata": {},
   "outputs": [
    {
     "data": {
      "text/plain": [
       "langchain_core.documents.base.Document"
      ]
     },
     "execution_count": 5,
     "metadata": {},
     "output_type": "execute_result"
    }
   ],
   "source": [
    "# data ingestion\n",
    "\n",
    "from langchain_community.document_loaders import WebBaseLoader\n",
    "\n",
    "url = \"https://docs.langchain.com/langsmith/administration-overview\"\n",
    "\n",
    "loader = WebBaseLoader(url)\n",
    "\n",
    "document = loader.load()\n",
    "\n",
    "type(document[0])"
   ]
  },
  {
   "cell_type": "code",
   "execution_count": 10,
   "id": "0fc9cc29",
   "metadata": {},
   "outputs": [
    {
     "data": {
      "text/plain": [
       "langchain_core.documents.base.Document"
      ]
     },
     "execution_count": 10,
     "metadata": {},
     "output_type": "execute_result"
    }
   ],
   "source": [
    "\n",
    "# splitting documents in to chunks\n",
    "\n",
    "from langchain.text_splitter import RecursiveCharacterTextSplitter\n",
    "\n",
    "splitter = RecursiveCharacterTextSplitter(chunk_size=1000,chunk_overlap=200)\n",
    "\n",
    "docs = splitter.split_documents(document)\n",
    "\n",
    "type(docs[0])"
   ]
  },
  {
   "cell_type": "code",
   "execution_count": null,
   "id": "afc31c97",
   "metadata": {},
   "outputs": [],
   "source": [
    "# embedding : text to vectors\n",
    "\n",
    "from langchain_openai import  OpenAIEmbeddings\n",
    "\n",
    "embeder = OpenAIEmbeddings(model='text-embedding-3-large')"
   ]
  },
  {
   "cell_type": "code",
   "execution_count": null,
   "id": "39aa0102",
   "metadata": {},
   "outputs": [],
   "source": [
    "# FAISS vectorstoresDB\n",
    "\n",
    "from langchain_community.vectorstores import FAISS\n",
    "\n",
    "db = FAISS.from_documents(docs,embeder)"
   ]
  },
  {
   "cell_type": "code",
   "execution_count": null,
   "id": "505bfd80",
   "metadata": {},
   "outputs": [],
   "source": [
    "# testing\n",
    "\n",
    "query = \"Why auto-upgrade traces?\"\n",
    "\n",
    "result = db.similarity_search(query)\n",
    "\n",
    "result[0]"
   ]
  },
  {
   "cell_type": "code",
   "execution_count": null,
   "id": "c7ca1b2b",
   "metadata": {},
   "outputs": [],
   "source": [
    "# llm model\n",
    "\n",
    "from langchain_openai import ChatOpenAI\n",
    "\n",
    "llm = ChatOpenAI(model='gpt-5')"
   ]
  },
  {
   "cell_type": "code",
   "execution_count": null,
   "id": "526dfe6a",
   "metadata": {},
   "outputs": [],
   "source": [
    "# creating prompt template\n",
    "\n",
    "from langchain_core.prompts import ChatPromptTemplate\n",
    "\n",
    "prompt = ChatPromptTemplate.from_template(\n",
    "    \"\"\"Answer the following questions based on the provided context\n",
    "    <context>\n",
    "    {context}\n",
    "    </context>\n",
    "    Question : {input}\"\"\"\n",
    ")"
   ]
  },
  {
   "cell_type": "code",
   "execution_count": null,
   "id": "792009c0",
   "metadata": {},
   "outputs": [],
   "source": [
    "# document chain\n",
    "\n",
    "from langchain.chains.combine_documents import create_stuff_documents_chain\n",
    "\n",
    "document_chain = create_stuff_documents_chain(llm,prompt)\n",
    "\n",
    "document_chain"
   ]
  },
  {
   "cell_type": "code",
   "execution_count": null,
   "id": "ab3d6ee7",
   "metadata": {},
   "outputs": [],
   "source": [
    "# creating retriever \n",
    "\n",
    "retriever = db.as_retriever()"
   ]
  },
  {
   "cell_type": "code",
   "execution_count": null,
   "id": "74895070",
   "metadata": {},
   "outputs": [],
   "source": [
    "# creating retrieval chain\n",
    "\n",
    "from langchain.chains import create_retrieval_chain\n",
    "\n",
    "retrieval_chain = create_retrieval_chain(retriever,document_chain)"
   ]
  },
  {
   "cell_type": "code",
   "execution_count": null,
   "id": "18f0cba4",
   "metadata": {},
   "outputs": [],
   "source": [
    "response = retrieval_chain.invoke(\n",
    "    {\"input\":\"question from site?\"}\n",
    ")\n",
    "\n",
    "response['answer']"
   ]
  },
  {
   "cell_type": "code",
   "execution_count": null,
   "id": "b791117b",
   "metadata": {},
   "outputs": [],
   "source": [
    "response"
   ]
  }
 ],
 "metadata": {
  "kernelspec": {
   "display_name": "langchain",
   "language": "python",
   "name": "python3"
  },
  "language_info": {
   "codemirror_mode": {
    "name": "ipython",
    "version": 3
   },
   "file_extension": ".py",
   "mimetype": "text/x-python",
   "name": "python",
   "nbconvert_exporter": "python",
   "pygments_lexer": "ipython3",
   "version": "3.10.18"
  }
 },
 "nbformat": 4,
 "nbformat_minor": 5
}
